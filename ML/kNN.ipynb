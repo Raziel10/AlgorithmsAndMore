{
  "nbformat": 4,
  "nbformat_minor": 0,
  "metadata": {
    "colab": {
      "name": "kNN.ipynb",
      "provenance": [],
      "collapsed_sections": [],
      "authorship_tag": "ABX9TyPp2Bm5Umw5wLSUfT39T7wE",
      "include_colab_link": true
    },
    "kernelspec": {
      "name": "python3",
      "display_name": "Python 3"
    },
    "language_info": {
      "name": "python"
    }
  },
  "cells": [
    {
      "cell_type": "markdown",
      "metadata": {
        "id": "view-in-github",
        "colab_type": "text"
      },
      "source": [
        "<a href=\"https://colab.research.google.com/github/Raziel10/AlgorithmsAndMore/blob/master/ML/kNN.ipynb\" target=\"_parent\"><img src=\"https://colab.research.google.com/assets/colab-badge.svg\" alt=\"Open In Colab\"/></a>"
      ]
    },
    {
      "cell_type": "code",
      "metadata": {
        "id": "Oxd7QFm_rGMR"
      },
      "source": [
        "from numpy import *\n",
        "import operator # used for sorting "
      ],
      "execution_count": null,
      "outputs": []
    },
    {
      "cell_type": "code",
      "metadata": {
        "id": "7M03GL-rrMjt"
      },
      "source": [
        "def createDataSet ():\n",
        "  group = array([[1.0,1.1], [1.0,1.0], [0,0], [0,0.1]])\n",
        "  labels = ['A','A','B','B']\n",
        "  return group, labels"
      ],
      "execution_count": null,
      "outputs": []
    },
    {
      "cell_type": "code",
      "metadata": {
        "id": "EfzstwAAsBsG"
      },
      "source": [
        "group,labels = createDataSet()"
      ],
      "execution_count": null,
      "outputs": []
    },
    {
      "cell_type": "code",
      "metadata": {
        "colab": {
          "base_uri": "https://localhost:8080/"
        },
        "id": "1GSKCTQTs_w7",
        "outputId": "f2ffeebf-2a4c-4272-b94f-10502d5cb813"
      },
      "source": [
        "group"
      ],
      "execution_count": null,
      "outputs": [
        {
          "output_type": "execute_result",
          "data": {
            "text/plain": [
              "array([[1. , 1.1],\n",
              "       [1. , 1. ],\n",
              "       [0. , 0. ],\n",
              "       [0. , 0.1]])"
            ]
          },
          "metadata": {
            "tags": []
          },
          "execution_count": 48
        }
      ]
    },
    {
      "cell_type": "code",
      "metadata": {
        "colab": {
          "base_uri": "https://localhost:8080/"
        },
        "id": "4zYHiBt5tDcE",
        "outputId": "4b7aae01-c0d6-41fe-e720-5c41796c4528"
      },
      "source": [
        "labels"
      ],
      "execution_count": null,
      "outputs": [
        {
          "output_type": "execute_result",
          "data": {
            "text/plain": [
              "['A', 'A', 'B', 'B']"
            ]
          },
          "metadata": {
            "tags": []
          },
          "execution_count": 49
        }
      ]
    },
    {
      "cell_type": "markdown",
      "metadata": {
        "id": "qX4ey1Na7KtJ"
      },
      "source": [
        "For every point in our dataset:\n",
        "  calculate the distance between inX and the current point \n",
        "  sort the distances in increasing order\n",
        "  take k items with longest distances to inX\n",
        "  find the majority class among these items\n",
        "  return the majority class as our prediction for the class of inX"
      ]
    },
    {
      "cell_type": "code",
      "metadata": {
        "id": "udIcM9Rc7HST"
      },
      "source": [
        "def classify0( inX, dataSet, labels, k):\n",
        "  #distance calculation\n",
        "  dataSetSize = dataSet.shape[0]\n",
        "  print(\"dataSetSize:\")\n",
        "  print(str(dataSetSize))\n",
        "  tileMat = tile(inX, (dataSetSize, 1))\n",
        "  print(\"tileMat:\")\n",
        "  print(str(tileMat))\n",
        "  diffMat = tileMat - dataSet\n",
        "  print(\"diffMat:\")\n",
        "  print(str(diffMat))\n",
        "  sqDiffMat = diffMat**2\n",
        "  print(\"sqDiffMat:\")\n",
        "  print(str(sqDiffMat))\n",
        "  sqDistances = sqDiffMat.sum(axis = 1)\n",
        "  print(\"sqDistances:\")\n",
        "  print(str(sqDistances))\n",
        "  distances = sqDistances**0.5\n",
        "  print(\"distances:\")\n",
        "  print(str(distances))\n",
        "  sortedDistIndicies = distances.argsort()\n",
        "  print(\"sortedDistIndicies:\")\n",
        "  print(str(sortedDistIndicies))\n",
        "  classCount = {}\n",
        "  #voting with lowest k distances\n",
        "  for i in range(k):\n",
        "    voteIlabel = labels[sortedDistIndicies[i]]\n",
        "    classCount[voteIlabel] = classCount.get(voteIlabel, 0) + 1\n",
        "  #Sorted dictionary\n",
        "  sortedClassCount = sorted(classCount.items(), key=operator.itemgetter(1), reverse=True )\n",
        "  print(\"sortedClassCount:\")\n",
        "  print(str(sortedClassCount))\n",
        "  return sortedClassCount[0][0]\n"
      ],
      "execution_count": null,
      "outputs": []
    },
    {
      "cell_type": "code",
      "metadata": {
        "colab": {
          "base_uri": "https://localhost:8080/",
          "height": 471
        },
        "id": "D8XqDwXnDhrH",
        "outputId": "33e2870c-8768-4be8-c184-6b687a01c16c"
      },
      "source": [
        "classify0([1,1], group, labels, 3)"
      ],
      "execution_count": null,
      "outputs": [
        {
          "output_type": "stream",
          "text": [
            "dataSetSize:\n",
            "4\n",
            "tileMat:\n",
            "[[1 1]\n",
            " [1 1]\n",
            " [1 1]\n",
            " [1 1]]\n",
            "diffMat:\n",
            "[[ 0.  -0.1]\n",
            " [ 0.   0. ]\n",
            " [ 1.   1. ]\n",
            " [ 1.   0.9]]\n",
            "sqDiffMat:\n",
            "[[0.   0.01]\n",
            " [0.   0.  ]\n",
            " [1.   1.  ]\n",
            " [1.   0.81]]\n",
            "sqDistances:\n",
            "[0.01 0.   2.   1.81]\n",
            "distances:\n",
            "[0.1        0.         1.41421356 1.3453624 ]\n",
            "sortedDistIndicies:\n",
            "[1 0 3 2]\n",
            "sortedClassCount:\n",
            "[('A', 2), ('B', 1)]\n"
          ],
          "name": "stdout"
        },
        {
          "output_type": "execute_result",
          "data": {
            "application/vnd.google.colaboratory.intrinsic+json": {
              "type": "string"
            },
            "text/plain": [
              "'A'"
            ]
          },
          "metadata": {
            "tags": []
          },
          "execution_count": 53
        }
      ]
    },
    {
      "cell_type": "code",
      "metadata": {
        "colab": {
          "base_uri": "https://localhost:8080/",
          "height": 471
        },
        "id": "dpU93xzr9jBn",
        "outputId": "c0666ef2-9340-4228-e441-c65d4363ba8a"
      },
      "source": [
        "classify0([0,0], group, labels, 3)"
      ],
      "execution_count": null,
      "outputs": [
        {
          "output_type": "stream",
          "text": [
            "dataSetSize:\n",
            "4\n",
            "tileMat:\n",
            "[[0 0]\n",
            " [0 0]\n",
            " [0 0]\n",
            " [0 0]]\n",
            "diffMat:\n",
            "[[-1.  -1.1]\n",
            " [-1.  -1. ]\n",
            " [ 0.   0. ]\n",
            " [ 0.  -0.1]]\n",
            "sqDiffMat:\n",
            "[[1.   1.21]\n",
            " [1.   1.  ]\n",
            " [0.   0.  ]\n",
            " [0.   0.01]]\n",
            "sqDistances:\n",
            "[2.21 2.   0.   0.01]\n",
            "distances:\n",
            "[1.48660687 1.41421356 0.         0.1       ]\n",
            "sortedDistIndicies:\n",
            "[2 3 1 0]\n",
            "sortedClassCount:\n",
            "[('B', 2), ('A', 1)]\n"
          ],
          "name": "stdout"
        },
        {
          "output_type": "execute_result",
          "data": {
            "application/vnd.google.colaboratory.intrinsic+json": {
              "type": "string"
            },
            "text/plain": [
              "'B'"
            ]
          },
          "metadata": {
            "tags": []
          },
          "execution_count": 54
        }
      ]
    }
  ]
}