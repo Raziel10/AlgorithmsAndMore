{
  "nbformat": 4,
  "nbformat_minor": 0,
  "metadata": {
    "colab": {
      "name": "KNN.ipnb",
      "provenance": [],
      "collapsed_sections": [],
      "authorship_tag": "ABX9TyOpRsbeeyah1Q2SThLrfNqd",
      "include_colab_link": true
    },
    "kernelspec": {
      "name": "python3",
      "display_name": "Python 3"
    },
    "language_info": {
      "name": "python"
    }
  },
  "cells": [
    {
      "cell_type": "markdown",
      "metadata": {
        "id": "view-in-github",
        "colab_type": "text"
      },
      "source": [
        "<a href=\"https://colab.research.google.com/github/Raziel10/AlgorithmsAndMore/blob/master/ML%5CKNN%5CKNN.ipynb\" target=\"_parent\"><img src=\"https://colab.research.google.com/assets/colab-badge.svg\" alt=\"Open In Colab\"/></a>"
      ]
    },
    {
      "cell_type": "markdown",
      "metadata": {
        "id": "CBogMtGwjM70"
      },
      "source": [
        "# K-Nearest Neighbors classifier\n",
        "by Raziel Lopez Escamilla"
      ]
    },
    {
      "cell_type": "markdown",
      "metadata": {
        "id": "UDgQ9yW_Tkv7"
      },
      "source": [
        "##Introduction.\n",
        "\n",
        "The KNN algorithm is a classification method (supervised machine learning algorithm), using an already labeled set of data (training set), the method will classify a new input by comparing it with all exiisting data. Then it will look at the labels of the K most similar values, and the majority label from the K elements will be the label assigned to the input.\n",
        "\n",
        "*   Pros: High accuracy, insensitive to outliers, no assumptions about data.\n",
        "*   Cons: Computational expensive, requires a lot of memory.\n",
        "\n",
        "> Process: \n",
        "1.   Have existing set or example data (training set).\n",
        "2.   Label all training set.\n",
        "3.   Give a new piece of data (without label). \n",
        "4.   Compare new piece with every existing data.\n",
        "5.   Take the most similar pieces of data (nearest neighbors) and look at their labels.\n",
        "6.   Look at the top K most similar pieces.\n",
        "7.   Take the majority vote from K pieces and that will be the label assigned.\n",
        "\n",
        "Note: K is usually less than 20."
      ]
    },
    {
      "cell_type": "code",
      "metadata": {
        "id": "Oxd7QFm_rGMR"
      },
      "source": [
        "from numpy import *\n",
        "import operator # used for sorting "
      ],
      "execution_count": null,
      "outputs": []
    },
    {
      "cell_type": "code",
      "metadata": {
        "id": "7M03GL-rrMjt"
      },
      "source": [
        "def createDataSet ():\n",
        "  group = array([[1.0,1.1], [1.0,1.0], [0,0], [0,0.1]])\n",
        "  labels = ['A','A','B','B']\n",
        "  return group, labels"
      ],
      "execution_count": null,
      "outputs": []
    },
    {
      "cell_type": "code",
      "metadata": {
        "id": "EfzstwAAsBsG"
      },
      "source": [
        "group,labels = createDataSet()"
      ],
      "execution_count": null,
      "outputs": []
    },
    {
      "cell_type": "code",
      "metadata": {
        "colab": {
          "base_uri": "https://localhost:8080/"
        },
        "id": "1GSKCTQTs_w7",
        "outputId": "b688b927-4212-4226-c089-42222595a7d1"
      },
      "source": [
        "group"
      ],
      "execution_count": null,
      "outputs": [
        {
          "output_type": "execute_result",
          "data": {
            "text/plain": [
              "array([[1. , 1.1],\n",
              "       [1. , 1. ],\n",
              "       [0. , 0. ],\n",
              "       [0. , 0.1]])"
            ]
          },
          "metadata": {
            "tags": []
          },
          "execution_count": 156
        }
      ]
    },
    {
      "cell_type": "code",
      "metadata": {
        "colab": {
          "base_uri": "https://localhost:8080/"
        },
        "id": "4zYHiBt5tDcE",
        "outputId": "0f6a6275-5138-4aed-f40c-4d787fffa2fb"
      },
      "source": [
        "labels"
      ],
      "execution_count": null,
      "outputs": [
        {
          "output_type": "execute_result",
          "data": {
            "text/plain": [
              "['A', 'A', 'B', 'B']"
            ]
          },
          "metadata": {
            "tags": []
          },
          "execution_count": 157
        }
      ]
    },
    {
      "cell_type": "markdown",
      "metadata": {
        "id": "qX4ey1Na7KtJ"
      },
      "source": [
        "For every point in our dataset:\n",
        "  calculate the distance between inX and the current point \n",
        "  sort the distances in increasing order\n",
        "  take k items with longest distances to inX\n",
        "  find the majority class among these items\n",
        "  return the majority class as our prediction for the class of inX"
      ]
    },
    {
      "cell_type": "code",
      "metadata": {
        "id": "udIcM9Rc7HST"
      },
      "source": [
        "def classify0_exp( inX, dataSet, labels, k):\n",
        "  #distance calculation\n",
        "  dataSetSize = dataSet.shape[0]\n",
        "  print(\"dataSetSize:\")\n",
        "  print(str(dataSetSize))\n",
        "  tileMat = tile(inX, (dataSetSize, 1)) #Construct an array by repeating A the number of times given by reps.\n",
        "  print(\"tileMat:\")\n",
        "  print(str(tileMat))\n",
        "  diffMat = tileMat - dataSet\n",
        "  print(\"diffMat:\")\n",
        "  print(str(diffMat))\n",
        "  sqDiffMat = diffMat**2\n",
        "  print(\"sqDiffMat:\")\n",
        "  print(str(sqDiffMat))\n",
        "  sqDistances = sqDiffMat.sum(axis = 1)\n",
        "  print(\"sqDistances:\")\n",
        "  print(str(sqDistances))\n",
        "  distances = sqDistances**0.5\n",
        "  print(\"distances:\")\n",
        "  print(str(distances))\n",
        "  sortedDistIndicies = distances.argsort()\n",
        "  print(\"sortedDistIndicies:\")\n",
        "  print(str(sortedDistIndicies))\n",
        "  classCount = {}\n",
        "  #voting with lowest k distances\n",
        "  for i in range(k):\n",
        "    voteIlabel = labels[sortedDistIndicies[i]]\n",
        "    classCount[voteIlabel] = classCount.get(voteIlabel, 0) + 1\n",
        "  #Sorted dictionary\n",
        "  sortedClassCount = sorted(classCount.items(), key=operator.itemgetter(1), reverse=True )\n",
        "  print(\"sortedClassCount:\")\n",
        "  print(str(sortedClassCount))\n",
        "  return sortedClassCount[0][0]\n"
      ],
      "execution_count": null,
      "outputs": []
    },
    {
      "cell_type": "code",
      "metadata": {
        "id": "w5hhHjruWIo7"
      },
      "source": [
        "def classify0( inX, dataSet, labels, k):\n",
        "  #distance calculation\n",
        "  dataSetSize = dataSet.shape[0]\n",
        "  tileMat = tile(inX, (dataSetSize, 1)) #Construct an array by repeating A the number of times given by reps.\n",
        "  diffMat = tileMat - dataSet\n",
        "  sqDiffMat = diffMat**2\n",
        "  sqDistances = sqDiffMat.sum(axis = 1)\n",
        "  distances = sqDistances**0.5\n",
        "  sortedDistIndicies = distances.argsort()\n",
        "  classCount = {}\n",
        "  #voting with lowest k distances\n",
        "  for i in range(k):\n",
        "    voteIlabel = labels[sortedDistIndicies[i]]\n",
        "    classCount[voteIlabel] = classCount.get(voteIlabel, 0) + 1\n",
        "  #Sorted dictionary\n",
        "  sortedClassCount = sorted(classCount.items(), key=operator.itemgetter(1), reverse=True )\n",
        "  return sortedClassCount[0][0]\n"
      ],
      "execution_count": null,
      "outputs": []
    },
    {
      "cell_type": "code",
      "metadata": {
        "colab": {
          "base_uri": "https://localhost:8080/",
          "height": 471
        },
        "id": "D8XqDwXnDhrH",
        "outputId": "93a4ce76-eec8-43c9-b0a8-52ae8c660de6"
      },
      "source": [
        "classify0_exp([1,1], group, labels, 3)"
      ],
      "execution_count": null,
      "outputs": [
        {
          "output_type": "stream",
          "text": [
            "dataSetSize:\n",
            "4\n",
            "tileMat:\n",
            "[[1 1]\n",
            " [1 1]\n",
            " [1 1]\n",
            " [1 1]]\n",
            "diffMat:\n",
            "[[ 0.  -0.1]\n",
            " [ 0.   0. ]\n",
            " [ 1.   1. ]\n",
            " [ 1.   0.9]]\n",
            "sqDiffMat:\n",
            "[[0.   0.01]\n",
            " [0.   0.  ]\n",
            " [1.   1.  ]\n",
            " [1.   0.81]]\n",
            "sqDistances:\n",
            "[0.01 0.   2.   1.81]\n",
            "distances:\n",
            "[0.1        0.         1.41421356 1.3453624 ]\n",
            "sortedDistIndicies:\n",
            "[1 0 3 2]\n",
            "sortedClassCount:\n",
            "[('A', 2), ('B', 1)]\n"
          ],
          "name": "stdout"
        },
        {
          "output_type": "execute_result",
          "data": {
            "application/vnd.google.colaboratory.intrinsic+json": {
              "type": "string"
            },
            "text/plain": [
              "'A'"
            ]
          },
          "metadata": {
            "tags": []
          },
          "execution_count": 160
        }
      ]
    },
    {
      "cell_type": "code",
      "metadata": {
        "colab": {
          "base_uri": "https://localhost:8080/",
          "height": 471
        },
        "id": "dpU93xzr9jBn",
        "outputId": "746bdb63-b28b-42fa-eea9-fb7d1aa18010"
      },
      "source": [
        "classify0_exp([0,0], group, labels, 3)"
      ],
      "execution_count": null,
      "outputs": [
        {
          "output_type": "stream",
          "text": [
            "dataSetSize:\n",
            "4\n",
            "tileMat:\n",
            "[[0 0]\n",
            " [0 0]\n",
            " [0 0]\n",
            " [0 0]]\n",
            "diffMat:\n",
            "[[-1.  -1.1]\n",
            " [-1.  -1. ]\n",
            " [ 0.   0. ]\n",
            " [ 0.  -0.1]]\n",
            "sqDiffMat:\n",
            "[[1.   1.21]\n",
            " [1.   1.  ]\n",
            " [0.   0.  ]\n",
            " [0.   0.01]]\n",
            "sqDistances:\n",
            "[2.21 2.   0.   0.01]\n",
            "distances:\n",
            "[1.48660687 1.41421356 0.         0.1       ]\n",
            "sortedDistIndicies:\n",
            "[2 3 1 0]\n",
            "sortedClassCount:\n",
            "[('B', 2), ('A', 1)]\n"
          ],
          "name": "stdout"
        },
        {
          "output_type": "execute_result",
          "data": {
            "application/vnd.google.colaboratory.intrinsic+json": {
              "type": "string"
            },
            "text/plain": [
              "'B'"
            ]
          },
          "metadata": {
            "tags": []
          },
          "execution_count": 161
        }
      ]
    },
    {
      "cell_type": "code",
      "metadata": {
        "id": "a1r4Zi28da0M"
      },
      "source": [
        "def file2matrix (filename): \n",
        "  love_dictionary={'largeDoses':3, 'smallDoses':2, 'didntLike':1, '3':3, '2':2, '1':1}\n",
        "  fr = open(filename)\n",
        "  #get number of lines\n",
        "  numberOfLines = len(fr.readlines())\n",
        "  #create numpy matrix to return\n",
        "  returnMat = zeros((numberOfLines, 3))\n",
        "  classLabelVector = []\n",
        "  fr = open(filename)\n",
        "  index = 0\n",
        "  #parse lines into lists\n",
        "  for line in fr.readlines():\n",
        "      line = line.strip()\n",
        "      listFromLine = line.split('\\t')\n",
        "      returnMat[index,:] = listFromLine[0:3]\n",
        "      classLabelVector.append(love_dictionary.get(listFromLine[-1]))\n",
        "      index += 1\n",
        "  return returnMat, classLabelVector"
      ],
      "execution_count": null,
      "outputs": []
    },
    {
      "cell_type": "code",
      "metadata": {
        "id": "1po8HhkMgEDt"
      },
      "source": [
        "datingDataMat, datingLabels = file2matrix(\"datingTestSet.txt\")"
      ],
      "execution_count": null,
      "outputs": []
    },
    {
      "cell_type": "code",
      "metadata": {
        "colab": {
          "base_uri": "https://localhost:8080/"
        },
        "id": "tNT1WC5tpIyp",
        "outputId": "f408b42b-014f-4e4e-ada0-04bd277f3610"
      },
      "source": [
        "datingLabels[0:20]"
      ],
      "execution_count": null,
      "outputs": [
        {
          "output_type": "execute_result",
          "data": {
            "text/plain": [
              "[3, 2, 1, 1, 1, 1, 3, 3, 1, 3, 1, 1, 2, 1, 1, 1, 1, 1, 2, 3]"
            ]
          },
          "metadata": {
            "tags": []
          },
          "execution_count": 164
        }
      ]
    },
    {
      "cell_type": "code",
      "metadata": {
        "colab": {
          "base_uri": "https://localhost:8080/",
          "height": 286
        },
        "id": "Pk9eEYSuRqb9",
        "outputId": "36fa9b1d-e252-45ab-958f-c4eb1834d590"
      },
      "source": [
        "import matplotlib\n",
        "import matplotlib.pyplot as plt\n",
        "fig = plt.figure()\n",
        "ax = fig.add_subplot(111) #numero de fila, num columnas, posicion\n",
        "ax.scatter(datingDataMat[:,1], datingDataMat[:,2])\n",
        "plt.show()"
      ],
      "execution_count": null,
      "outputs": [
        {
          "output_type": "display_data",
          "data": {
            "image/png": "[encoded data removed]",
            "text/plain": [
              "<Figure size 432x288 with 1 Axes>"
            ]
          },
          "metadata": {
            "tags": [],
            "needs_background": "light"
          }
        }
      ]
    },
    {
      "cell_type": "code",
      "metadata": {
        "colab": {
          "base_uri": "https://localhost:8080/",
          "height": 286
        },
        "id": "mSldvcLqUL7h",
        "outputId": "448abb21-12d1-44c0-87f7-6d0bc2b6f962"
      },
      "source": [
        "fig = plt.figure()\n",
        "ax = fig.add_subplot(111) #numero de fila, num columnas, posicion\n",
        "ax.scatter(datingDataMat[:,1], datingDataMat[:,2], 15.0 * array(datingLabels),15.0 * array(datingLabels) )\n",
        "plt.show()"
      ],
      "execution_count": null,
      "outputs": [
        {
          "output_type": "display_data",
          "data": {
            "image/png": "[encoded data removed]",
            "text/plain": [
              "<Figure size 432x288 with 1 Axes>"
            ]
          },
          "metadata": {
            "tags": [],
            "needs_background": "light"
          }
        }
      ]
    },
    {
      "cell_type": "code",
      "metadata": {
        "colab": {
          "base_uri": "https://localhost:8080/",
          "height": 286
        },
        "id": "3OdU6YxxWG4Z",
        "outputId": "f0098a61-f249-454d-b2d8-53bf41adae48"
      },
      "source": [
        "fig = plt.figure()\n",
        "ax = fig.add_subplot(111) #numero de fila, num columnas, posicion\n",
        "ax.scatter(datingDataMat[:,0], datingDataMat[:,1], 15.0 * array(datingLabels),15.0 * array(datingLabels) )\n",
        "plt.show()"
      ],
      "execution_count": null,
      "outputs": [
        {
          "output_type": "display_data",
          "data": {
            "image/png": "[encoded data removed]",
            "text/plain": [
              "<Figure size 432x288 with 1 Axes>"
            ]
          },
          "metadata": {
            "tags": [],
            "needs_background": "light"
          }
        }
      ]
    },
    {
      "cell_type": "code",
      "metadata": {
        "id": "Dg8Bs7Q0ZFWc"
      },
      "source": [
        "def autoNorm (dataSet):\n",
        "  minVals = dataSet.min(0)\n",
        "  maxVals = dataSet.max(0)\n",
        "  ranges = maxVals - minVals\n",
        "  #print(shape(dataSet))\n",
        "  normDataSet = zeros(shape(dataSet))\n",
        "  m = dataSet.shape[0]\n",
        "  #print(m)\n",
        "  normDataSet = dataSet - tile(minVals, (m,1) )\n",
        "  normDataSet = normDataSet / tile(ranges, (m,1))\n",
        "  return normDataSet , ranges , minVals\n"
      ],
      "execution_count": null,
      "outputs": []
    },
    {
      "cell_type": "code",
      "metadata": {
        "id": "QN4iV8vAZ5f6"
      },
      "source": [
        "normMat , ranges, minVals = autoNorm(datingDataMat)"
      ],
      "execution_count": null,
      "outputs": []
    },
    {
      "cell_type": "code",
      "metadata": {
        "colab": {
          "base_uri": "https://localhost:8080/"
        },
        "id": "__TknMfhbFO-",
        "outputId": "c6a1a2cf-47c6-48bc-ffcb-211f6e308931"
      },
      "source": [
        "normMat"
      ],
      "execution_count": null,
      "outputs": [
        {
          "output_type": "execute_result",
          "data": {
            "text/plain": [
              "array([[0.44832535, 0.39805139, 0.56233353],\n",
              "       [0.15873259, 0.34195467, 0.98724416],\n",
              "       [0.28542943, 0.06892523, 0.47449629],\n",
              "       ...,\n",
              "       [0.29115949, 0.50910294, 0.51079493],\n",
              "       [0.52711097, 0.43665451, 0.4290048 ],\n",
              "       [0.47940793, 0.3768091 , 0.78571804]])"
            ]
          },
          "metadata": {
            "tags": []
          },
          "execution_count": 170
        }
      ]
    },
    {
      "cell_type": "code",
      "metadata": {
        "colab": {
          "base_uri": "https://localhost:8080/"
        },
        "id": "uxLOXwPJbIca",
        "outputId": "9420a5a6-fb09-4686-a8bf-25c15e1a2ffc"
      },
      "source": [
        "ranges"
      ],
      "execution_count": null,
      "outputs": [
        {
          "output_type": "execute_result",
          "data": {
            "text/plain": [
              "array([9.1273000e+04, 2.0919349e+01, 1.6943610e+00])"
            ]
          },
          "metadata": {
            "tags": []
          },
          "execution_count": 171
        }
      ]
    },
    {
      "cell_type": "code",
      "metadata": {
        "id": "tYENp4icbORA",
        "colab": {
          "base_uri": "https://localhost:8080/"
        },
        "outputId": "7c44b3b9-877e-4739-ef77-804c9f843fc6"
      },
      "source": [
        "minVals"
      ],
      "execution_count": null,
      "outputs": [
        {
          "output_type": "execute_result",
          "data": {
            "text/plain": [
              "array([0.      , 0.      , 0.001156])"
            ]
          },
          "metadata": {
            "tags": []
          },
          "execution_count": 172
        }
      ]
    },
    {
      "cell_type": "markdown",
      "metadata": {
        "id": "aECVjaQ9ibfN"
      },
      "source": [
        "# Dating test example"
      ]
    },
    {
      "cell_type": "code",
      "metadata": {
        "id": "-QdTJgiDMTAa"
      },
      "source": [
        "def datingClassTest(hoRatio, k):  \n",
        "    #hoRatio = 0.10  \n",
        "    datingDataMat2,datingLabels2 = file2matrix('datingTestSet2.txt')       #load data setfrom file\n",
        "    normMat2, ranges2, minVals2 = autoNorm(datingDataMat2)\n",
        "    m = normMat2.shape[0]\n",
        "    numTestVecs = int(m*hoRatio)\n",
        "    errorCount = 0.0\n",
        "    for i in range(numTestVecs):\n",
        "        classifierResult = classify0(normMat2[i,:],normMat2[numTestVecs:m,:],datingLabels2[numTestVecs:m],k)\n",
        "        #print(\"the classifier came back with: {0}, the real answer is: {1}\".format(classifierResult, datingLabels2[i]))\n",
        "        if (classifierResult != datingLabels2[i]): \n",
        "          errorCount += 1.0\n",
        "    print(\"for k = {1}, and hoRatio = {2} the total error rate is: {0}\".format(errorCount/float(numTestVecs), k, hoRatio ))"
      ],
      "execution_count": null,
      "outputs": []
    },
    {
      "cell_type": "code",
      "metadata": {
        "colab": {
          "base_uri": "https://localhost:8080/"
        },
        "id": "N-aLQLv8VcfB",
        "outputId": "ccc5f5bf-ea25-4905-80f2-12c50c2e61c5"
      },
      "source": [
        "datingClassTest(0.10,3)\n",
        "datingClassTest(0.20,3)\n",
        "datingClassTest(0.30,3)\n",
        "datingClassTest(0.10,4)\n",
        "datingClassTest(0.20,4)\n",
        "datingClassTest(0.30,4)\n",
        "datingClassTest(0.10,4)\n",
        "datingClassTest(0.20,4)\n",
        "datingClassTest(0.30,4)"
      ],
      "execution_count": null,
      "outputs": [
        {
          "output_type": "stream",
          "text": [
            "for k = 3, and hoRatio = 0.1 the total error rate is: 0.05\n",
            "for k = 3, and hoRatio = 0.2 the total error rate is: 0.08\n",
            "for k = 3, and hoRatio = 0.3 the total error rate is: 0.08333333333333333\n",
            "for k = 4, and hoRatio = 0.1 the total error rate is: 0.04\n",
            "for k = 4, and hoRatio = 0.2 the total error rate is: 0.08\n",
            "for k = 4, and hoRatio = 0.3 the total error rate is: 0.07666666666666666\n",
            "for k = 4, and hoRatio = 0.1 the total error rate is: 0.04\n",
            "for k = 4, and hoRatio = 0.2 the total error rate is: 0.08\n",
            "for k = 4, and hoRatio = 0.3 the total error rate is: 0.07666666666666666\n"
          ],
          "name": "stdout"
        }
      ]
    },
    {
      "cell_type": "code",
      "metadata": {
        "id": "DAgmYPDXdTLB"
      },
      "source": [
        "def classifyPerson():\n",
        "  resultList = ['not at all', 'in small doses', 'in larger doses']\n",
        "  percentTats = float(input(\"percentage of time spent playing videogames? \"))\n",
        "  ffMiles = float(input(\"frequent flier miles earned per year? \"))\n",
        "  iceCream = float(input(\" liters of ice cream consumed per year?\"))\n",
        "  datingDataMat, datingLabels = file2matrix('datingTestSet2.txt')\n",
        "  normMat, ranges, minVals = autoNorm(datingDataMat)\n",
        "  inArr = array( [ffMiles , percentTats, iceCream])\n",
        "  classifierResult = classify0((inArr - minVals )/ ranges, normMat, datingLabels, 3)\n",
        "  print(\"You will probably like this person: {0}\".format(resultList[classifierResult - 1]))\n"
      ],
      "execution_count": null,
      "outputs": []
    },
    {
      "cell_type": "code",
      "metadata": {
        "colab": {
          "base_uri": "https://localhost:8080/"
        },
        "id": "MJgLekEwgc6C",
        "outputId": "bb003d6f-73b2-4484-c346-216db3a1f86e"
      },
      "source": [
        "classifyPerson()"
      ],
      "execution_count": null,
      "outputs": [
        {
          "output_type": "stream",
          "text": [
            "percentage of time spent playing videogames? 20\n",
            "frequent flier miles earned per year? 20000\n",
            " liters of ice cream consumed per year?2\n",
            "3\n",
            "You will probably like this person: in larger doses\n"
          ],
          "name": "stdout"
        }
      ]
    },
    {
      "cell_type": "markdown",
      "metadata": {
        "id": "oCmsF3v3iqXu"
      },
      "source": [
        "# **Hand writting recognition system.**"
      ]
    },
    {
      "cell_type": "code",
      "metadata": {
        "id": "XVBuViLvjAa9"
      },
      "source": [
        "def img2vector(filename):\n",
        "    returnVect = zeros((1,1024))\n",
        "    fr = open(filename)\n",
        "    for i in range(32):\n",
        "        lineStr = fr.readline()\n",
        "        for j in range(32):\n",
        "            returnVect[0,32*i+j] = int(lineStr[j])\n",
        "    return returnVect"
      ],
      "execution_count": null,
      "outputs": []
    },
    {
      "cell_type": "code",
      "metadata": {
        "colab": {
          "base_uri": "https://localhost:8080/"
        },
        "id": "y4hGQTjJredc",
        "outputId": "14c45e70-98e7-438f-8be6-b2f245e53af8"
      },
      "source": [
        "testVector = img2vector(\"digits/testDigits/0_13.txt\")\n",
        "testVector[0,0:31]"
      ],
      "execution_count": null,
      "outputs": [
        {
          "output_type": "execute_result",
          "data": {
            "text/plain": [
              "array([0., 0., 0., 0., 0., 0., 0., 0., 0., 0., 0., 0., 0., 0., 1., 1., 1.,\n",
              "       1., 0., 0., 0., 0., 0., 0., 0., 0., 0., 0., 0., 0., 0.])"
            ]
          },
          "metadata": {
            "tags": []
          },
          "execution_count": 199
        }
      ]
    },
    {
      "cell_type": "code",
      "metadata": {
        "colab": {
          "base_uri": "https://localhost:8080/"
        },
        "id": "qGv1f-ejr_x6",
        "outputId": "05fb1a65-b242-44c3-aa6e-0e834075b390"
      },
      "source": [
        "testVector[0,32:63]"
      ],
      "execution_count": null,
      "outputs": [
        {
          "output_type": "execute_result",
          "data": {
            "text/plain": [
              "array([0., 0., 0., 0., 0., 0., 0., 0., 0., 0., 0., 0., 1., 1., 1., 1., 1.,\n",
              "       1., 1., 0., 0., 0., 0., 0., 0., 0., 0., 0., 0., 0., 0.])"
            ]
          },
          "metadata": {
            "tags": []
          },
          "execution_count": 198
        }
      ]
    },
    {
      "cell_type": "code",
      "metadata": {
        "id": "2eRF4wROsoms"
      },
      "source": [
        "from os import listdir\n",
        "def handwritingClassTest():\n",
        "    hwLabels = []\n",
        "    trainingFileList = listdir('digits/trainingDigits')           #load the training set\n",
        "    m = len(trainingFileList)\n",
        "    trainingMat = zeros((m,1024))\n",
        "    for i in range(m):\n",
        "        fileNameStr = trainingFileList[i]\n",
        "        fileStr = fileNameStr.split('.')[0]     #take off .txt\n",
        "        classNumStr = int(fileStr.split('_')[0])\n",
        "        hwLabels.append(classNumStr)\n",
        "        trainingMat[i,:] = img2vector('digits/trainingDigits/%s' % fileNameStr)\n",
        "    testFileList = listdir('digits/testDigits')        #iterate through the test set\n",
        "    errorCount = 0.0\n",
        "    mTest = len(testFileList)\n",
        "    for i in range(mTest):\n",
        "        fileNameStr = testFileList[i]\n",
        "        fileStr = fileNameStr.split('.')[0]     #take off .txt\n",
        "        classNumStr = int(fileStr.split('_')[0])\n",
        "        vectorUnderTest = img2vector('digits/testDigits/%s' % fileNameStr)\n",
        "        classifierResult = classify0(vectorUnderTest, trainingMat, hwLabels, 3)\n",
        "        print(\"the classifier came back with: {0}, the real answer is: {0}\".format(classifierResult, classNumStr))\n",
        "        if (classifierResult != classNumStr): errorCount += 1.0\n",
        "    print(\"\\nthe total number of errors is: {0}\".format( errorCount))\n",
        "    print(\"\\nthe total error rate is: {0}\".format(errorCount/float(mTest)))"
      ],
      "execution_count": null,
      "outputs": []
    },
    {
      "cell_type": "code",
      "metadata": {
        "colab": {
          "base_uri": "https://localhost:8080/"
        },
        "id": "ey1gKhgktTpd",
        "outputId": "77294598-069c-4dd2-ea3d-5b6aeb4c010f"
      },
      "source": [
        "handwritingClassTest()"
      ],
      "execution_count": null,
      "outputs": [
        {
          "output_type": "stream",
          "text": [
            "the classifier came back with: 4, the real answer is: 4\n",
            "the classifier came back with: 2, the real answer is: 2\n",
            "the classifier came back with: 6, the real answer is: 6\n",
            "the classifier came back with: 4, the real answer is: 4\n",
            "the classifier came back with: 6, the real answer is: 6\n",
            "the classifier came back with: 1, the real answer is: 1\n",
            "the classifier came back with: 2, the real answer is: 2\n",
            "the classifier came back with: 9, the real answer is: 9\n",
            "the classifier came back with: 5, the real answer is: 5\n",
            "the classifier came back with: 5, the real answer is: 5\n",
            "the classifier came back with: 9, the real answer is: 9\n",
            "the classifier came back with: 5, the real answer is: 5\n",
            "the classifier came back with: 8, the real answer is: 8\n",
            "the classifier came back with: 9, the real answer is: 9\n",
            "the classifier came back with: 5, the real answer is: 5\n",
            "the classifier came back with: 3, the real answer is: 3\n",
            "the classifier came back with: 1, the real answer is: 1\n",
            "the classifier came back with: 5, the real answer is: 5\n",
            "the classifier came back with: 6, the real answer is: 6\n",
            "the classifier came back with: 4, the real answer is: 4\n",
            "the classifier came back with: 4, the real answer is: 4\n",
            "the classifier came back with: 7, the real answer is: 7\n",
            "the classifier came back with: 6, the real answer is: 6\n",
            "the classifier came back with: 5, the real answer is: 5\n",
            "the classifier came back with: 8, the real answer is: 8\n",
            "the classifier came back with: 9, the real answer is: 9\n",
            "the classifier came back with: 1, the real answer is: 1\n",
            "the classifier came back with: 5, the real answer is: 5\n",
            "the classifier came back with: 6, the real answer is: 6\n",
            "the classifier came back with: 6, the real answer is: 6\n",
            "the classifier came back with: 7, the real answer is: 7\n",
            "the classifier came back with: 6, the real answer is: 6\n",
            "the classifier came back with: 7, the real answer is: 7\n",
            "the classifier came back with: 1, the real answer is: 1\n",
            "the classifier came back with: 7, the real answer is: 7\n",
            "the classifier came back with: 8, the real answer is: 8\n",
            "the classifier came back with: 2, the real answer is: 2\n",
            "the classifier came back with: 7, the real answer is: 7\n",
            "the classifier came back with: 9, the real answer is: 9\n",
            "the classifier came back with: 1, the real answer is: 1\n",
            "the classifier came back with: 3, the real answer is: 3\n",
            "the classifier came back with: 7, the real answer is: 7\n",
            "the classifier came back with: 9, the real answer is: 9\n",
            "the classifier came back with: 3, the real answer is: 3\n",
            "the classifier came back with: 1, the real answer is: 1\n",
            "the classifier came back with: 5, the real answer is: 5\n",
            "the classifier came back with: 8, the real answer is: 8\n",
            "the classifier came back with: 1, the real answer is: 1\n",
            "the classifier came back with: 8, the real answer is: 8\n",
            "the classifier came back with: 2, the real answer is: 2\n",
            "the classifier came back with: 7, the real answer is: 7\n",
            "the classifier came back with: 1, the real answer is: 1\n",
            "the classifier came back with: 2, the real answer is: 2\n",
            "the classifier came back with: 2, the real answer is: 2\n",
            "the classifier came back with: 2, the real answer is: 2\n",
            "the classifier came back with: 6, the real answer is: 6\n",
            "the classifier came back with: 9, the real answer is: 9\n",
            "the classifier came back with: 4, the real answer is: 4\n",
            "the classifier came back with: 6, the real answer is: 6\n",
            "the classifier came back with: 4, the real answer is: 4\n",
            "the classifier came back with: 9, the real answer is: 9\n",
            "the classifier came back with: 3, the real answer is: 3\n",
            "the classifier came back with: 5, the real answer is: 5\n",
            "the classifier came back with: 5, the real answer is: 5\n",
            "the classifier came back with: 4, the real answer is: 4\n",
            "the classifier came back with: 7, the real answer is: 7\n",
            "the classifier came back with: 8, the real answer is: 8\n",
            "the classifier came back with: 4, the real answer is: 4\n",
            "the classifier came back with: 8, the real answer is: 8\n",
            "the classifier came back with: 8, the real answer is: 8\n",
            "the classifier came back with: 8, the real answer is: 8\n",
            "the classifier came back with: 4, the real answer is: 4\n",
            "the classifier came back with: 9, the real answer is: 9\n",
            "the classifier came back with: 1, the real answer is: 1\n",
            "the classifier came back with: 7, the real answer is: 7\n",
            "the classifier came back with: 8, the real answer is: 8\n",
            "the classifier came back with: 6, the real answer is: 6\n",
            "the classifier came back with: 8, the real answer is: 8\n",
            "the classifier came back with: 2, the real answer is: 2\n",
            "the classifier came back with: 1, the real answer is: 1\n",
            "the classifier came back with: 8, the real answer is: 8\n",
            "the classifier came back with: 9, the real answer is: 9\n",
            "the classifier came back with: 6, the real answer is: 6\n",
            "the classifier came back with: 3, the real answer is: 3\n",
            "the classifier came back with: 2, the real answer is: 2\n",
            "the classifier came back with: 9, the real answer is: 9\n",
            "the classifier came back with: 4, the real answer is: 4\n",
            "the classifier came back with: 8, the real answer is: 8\n",
            "the classifier came back with: 5, the real answer is: 5\n",
            "the classifier came back with: 3, the real answer is: 3\n",
            "the classifier came back with: 4, the real answer is: 4\n",
            "the classifier came back with: 1, the real answer is: 1\n",
            "the classifier came back with: 4, the real answer is: 4\n",
            "the classifier came back with: 6, the real answer is: 6\n",
            "the classifier came back with: 2, the real answer is: 2\n",
            "the classifier came back with: 9, the real answer is: 9\n",
            "the classifier came back with: 4, the real answer is: 4\n",
            "the classifier came back with: 5, the real answer is: 5\n",
            "the classifier came back with: 2, the real answer is: 2\n",
            "the classifier came back with: 2, the real answer is: 2\n",
            "the classifier came back with: 2, the real answer is: 2\n",
            "the classifier came back with: 9, the real answer is: 9\n",
            "the classifier came back with: 2, the real answer is: 2\n",
            "the classifier came back with: 9, the real answer is: 9\n",
            "the classifier came back with: 6, the real answer is: 6\n",
            "the classifier came back with: 8, the real answer is: 8\n",
            "the classifier came back with: 7, the real answer is: 7\n",
            "the classifier came back with: 7, the real answer is: 7\n",
            "the classifier came back with: 2, the real answer is: 2\n",
            "the classifier came back with: 8, the real answer is: 8\n",
            "the classifier came back with: 4, the real answer is: 4\n",
            "the classifier came back with: 6, the real answer is: 6\n",
            "the classifier came back with: 1, the real answer is: 1\n",
            "the classifier came back with: 3, the real answer is: 3\n",
            "the classifier came back with: 1, the real answer is: 1\n",
            "the classifier came back with: 5, the real answer is: 5\n",
            "the classifier came back with: 6, the real answer is: 6\n",
            "the classifier came back with: 3, the real answer is: 3\n",
            "the classifier came back with: 7, the real answer is: 7\n",
            "the classifier came back with: 6, the real answer is: 6\n",
            "the classifier came back with: 6, the real answer is: 6\n",
            "the classifier came back with: 9, the real answer is: 9\n",
            "the classifier came back with: 7, the real answer is: 7\n",
            "the classifier came back with: 1, the real answer is: 1\n",
            "the classifier came back with: 3, the real answer is: 3\n",
            "the classifier came back with: 8, the real answer is: 8\n",
            "the classifier came back with: 2, the real answer is: 2\n",
            "the classifier came back with: 5, the real answer is: 5\n",
            "the classifier came back with: 4, the real answer is: 4\n",
            "the classifier came back with: 9, the real answer is: 9\n",
            "the classifier came back with: 9, the real answer is: 9\n",
            "the classifier came back with: 5, the real answer is: 5\n",
            "the classifier came back with: 9, the real answer is: 9\n",
            "the classifier came back with: 5, the real answer is: 5\n",
            "the classifier came back with: 9, the real answer is: 9\n",
            "the classifier came back with: 2, the real answer is: 2\n",
            "the classifier came back with: 7, the real answer is: 7\n",
            "the classifier came back with: 9, the real answer is: 9\n",
            "the classifier came back with: 1, the real answer is: 1\n",
            "the classifier came back with: 4, the real answer is: 4\n",
            "the classifier came back with: 1, the real answer is: 1\n",
            "the classifier came back with: 6, the real answer is: 6\n",
            "the classifier came back with: 9, the real answer is: 9\n",
            "the classifier came back with: 9, the real answer is: 9\n",
            "the classifier came back with: 3, the real answer is: 3\n",
            "the classifier came back with: 5, the real answer is: 5\n",
            "the classifier came back with: 2, the real answer is: 2\n",
            "the classifier came back with: 9, the real answer is: 9\n",
            "the classifier came back with: 1, the real answer is: 1\n",
            "the classifier came back with: 7, the real answer is: 7\n",
            "the classifier came back with: 4, the real answer is: 4\n",
            "the classifier came back with: 9, the real answer is: 9\n",
            "the classifier came back with: 4, the real answer is: 4\n",
            "the classifier came back with: 6, the real answer is: 6\n",
            "the classifier came back with: 8, the real answer is: 8\n",
            "the classifier came back with: 8, the real answer is: 8\n",
            "the classifier came back with: 7, the real answer is: 7\n",
            "the classifier came back with: 5, the real answer is: 5\n",
            "the classifier came back with: 8, the real answer is: 8\n",
            "the classifier came back with: 5, the real answer is: 5\n",
            "the classifier came back with: 5, the real answer is: 5\n",
            "the classifier came back with: 6, the real answer is: 6\n",
            "the classifier came back with: 9, the real answer is: 9\n",
            "the classifier came back with: 4, the real answer is: 4\n",
            "the classifier came back with: 4, the real answer is: 4\n",
            "the classifier came back with: 4, the real answer is: 4\n",
            "the classifier came back with: 4, the real answer is: 4\n",
            "the classifier came back with: 8, the real answer is: 8\n",
            "the classifier came back with: 7, the real answer is: 7\n",
            "the classifier came back with: 8, the real answer is: 8\n",
            "the classifier came back with: 3, the real answer is: 3\n",
            "the classifier came back with: 3, the real answer is: 3\n",
            "the classifier came back with: 5, the real answer is: 5\n",
            "the classifier came back with: 6, the real answer is: 6\n",
            "the classifier came back with: 4, the real answer is: 4\n",
            "the classifier came back with: 7, the real answer is: 7\n",
            "the classifier came back with: 9, the real answer is: 9\n",
            "the classifier came back with: 5, the real answer is: 5\n",
            "the classifier came back with: 7, the real answer is: 7\n",
            "the classifier came back with: 9, the real answer is: 9\n",
            "the classifier came back with: 4, the real answer is: 4\n",
            "the classifier came back with: 8, the real answer is: 8\n",
            "the classifier came back with: 9, the real answer is: 9\n",
            "the classifier came back with: 4, the real answer is: 4\n",
            "the classifier came back with: 2, the real answer is: 2\n",
            "the classifier came back with: 3, the real answer is: 3\n",
            "the classifier came back with: 4, the real answer is: 4\n",
            "the classifier came back with: 2, the real answer is: 2\n",
            "the classifier came back with: 2, the real answer is: 2\n",
            "the classifier came back with: 7, the real answer is: 7\n",
            "the classifier came back with: 2, the real answer is: 2\n",
            "the classifier came back with: 5, the real answer is: 5\n",
            "the classifier came back with: 8, the real answer is: 8\n",
            "the classifier came back with: 5, the real answer is: 5\n",
            "the classifier came back with: 9, the real answer is: 9\n",
            "the classifier came back with: 9, the real answer is: 9\n",
            "the classifier came back with: 8, the real answer is: 8\n",
            "the classifier came back with: 9, the real answer is: 9\n",
            "the classifier came back with: 7, the real answer is: 7\n",
            "the classifier came back with: 9, the real answer is: 9\n",
            "the classifier came back with: 9, the real answer is: 9\n",
            "the classifier came back with: 8, the real answer is: 8\n",
            "the classifier came back with: 9, the real answer is: 9\n",
            "the classifier came back with: 6, the real answer is: 6\n",
            "the classifier came back with: 5, the real answer is: 5\n",
            "the classifier came back with: 7, the real answer is: 7\n",
            "the classifier came back with: 9, the real answer is: 9\n",
            "the classifier came back with: 3, the real answer is: 3\n",
            "the classifier came back with: 5, the real answer is: 5\n",
            "the classifier came back with: 9, the real answer is: 9\n",
            "the classifier came back with: 8, the real answer is: 8\n",
            "the classifier came back with: 2, the real answer is: 2\n",
            "the classifier came back with: 9, the real answer is: 9\n",
            "the classifier came back with: 2, the real answer is: 2\n",
            "the classifier came back with: 6, the real answer is: 6\n",
            "the classifier came back with: 3, the real answer is: 3\n",
            "the classifier came back with: 9, the real answer is: 9\n",
            "the classifier came back with: 7, the real answer is: 7\n",
            "the classifier came back with: 4, the real answer is: 4\n",
            "the classifier came back with: 4, the real answer is: 4\n",
            "the classifier came back with: 5, the real answer is: 5\n",
            "the classifier came back with: 7, the real answer is: 7\n",
            "the classifier came back with: 8, the real answer is: 8\n",
            "the classifier came back with: 2, the real answer is: 2\n",
            "the classifier came back with: 1, the real answer is: 1\n",
            "the classifier came back with: 6, the real answer is: 6\n",
            "the classifier came back with: 9, the real answer is: 9\n",
            "the classifier came back with: 1, the real answer is: 1\n",
            "the classifier came back with: 4, the real answer is: 4\n",
            "the classifier came back with: 9, the real answer is: 9\n",
            "the classifier came back with: 5, the real answer is: 5\n",
            "the classifier came back with: 7, the real answer is: 7\n",
            "the classifier came back with: 4, the real answer is: 4\n",
            "the classifier came back with: 8, the real answer is: 8\n",
            "the classifier came back with: 8, the real answer is: 8\n",
            "the classifier came back with: 9, the real answer is: 9\n",
            "the classifier came back with: 9, the real answer is: 9\n",
            "the classifier came back with: 3, the real answer is: 3\n",
            "the classifier came back with: 3, the real answer is: 3\n",
            "the classifier came back with: 7, the real answer is: 7\n",
            "the classifier came back with: 4, the real answer is: 4\n",
            "the classifier came back with: 2, the real answer is: 2\n",
            "the classifier came back with: 1, the real answer is: 1\n",
            "the classifier came back with: 3, the real answer is: 3\n",
            "the classifier came back with: 1, the real answer is: 1\n",
            "the classifier came back with: 3, the real answer is: 3\n",
            "the classifier came back with: 2, the real answer is: 2\n",
            "the classifier came back with: 6, the real answer is: 6\n",
            "the classifier came back with: 3, the real answer is: 3\n",
            "the classifier came back with: 7, the real answer is: 7\n",
            "the classifier came back with: 6, the real answer is: 6\n",
            "the classifier came back with: 6, the real answer is: 6\n",
            "the classifier came back with: 9, the real answer is: 9\n",
            "the classifier came back with: 6, the real answer is: 6\n",
            "the classifier came back with: 1, the real answer is: 1\n",
            "the classifier came back with: 6, the real answer is: 6\n",
            "the classifier came back with: 5, the real answer is: 5\n",
            "the classifier came back with: 8, the real answer is: 8\n",
            "the classifier came back with: 8, the real answer is: 8\n",
            "the classifier came back with: 5, the real answer is: 5\n",
            "the classifier came back with: 2, the real answer is: 2\n",
            "the classifier came back with: 7, the real answer is: 7\n",
            "the classifier came back with: 9, the real answer is: 9\n",
            "the classifier came back with: 9, the real answer is: 9\n",
            "the classifier came back with: 5, the real answer is: 5\n",
            "the classifier came back with: 1, the real answer is: 1\n",
            "the classifier came back with: 6, the real answer is: 6\n",
            "the classifier came back with: 8, the real answer is: 8\n",
            "the classifier came back with: 6, the real answer is: 6\n",
            "the classifier came back with: 8, the real answer is: 8\n",
            "the classifier came back with: 2, the real answer is: 2\n",
            "the classifier came back with: 5, the real answer is: 5\n",
            "the classifier came back with: 3, the real answer is: 3\n",
            "the classifier came back with: 1, the real answer is: 1\n",
            "the classifier came back with: 1, the real answer is: 1\n",
            "the classifier came back with: 6, the real answer is: 6\n",
            "the classifier came back with: 1, the real answer is: 1\n",
            "the classifier came back with: 6, the real answer is: 6\n",
            "the classifier came back with: 2, the real answer is: 2\n",
            "the classifier came back with: 3, the real answer is: 3\n",
            "the classifier came back with: 8, the real answer is: 8\n",
            "the classifier came back with: 5, the real answer is: 5\n",
            "the classifier came back with: 3, the real answer is: 3\n",
            "the classifier came back with: 9, the real answer is: 9\n",
            "the classifier came back with: 2, the real answer is: 2\n",
            "the classifier came back with: 6, the real answer is: 6\n",
            "the classifier came back with: 6, the real answer is: 6\n",
            "the classifier came back with: 3, the real answer is: 3\n",
            "the classifier came back with: 5, the real answer is: 5\n",
            "the classifier came back with: 5, the real answer is: 5\n",
            "the classifier came back with: 7, the real answer is: 7\n",
            "the classifier came back with: 9, the real answer is: 9\n",
            "the classifier came back with: 1, the real answer is: 1\n",
            "the classifier came back with: 2, the real answer is: 2\n",
            "the classifier came back with: 2, the real answer is: 2\n",
            "the classifier came back with: 6, the real answer is: 6\n",
            "the classifier came back with: 9, the real answer is: 9\n",
            "the classifier came back with: 3, the real answer is: 3\n",
            "the classifier came back with: 2, the real answer is: 2\n",
            "the classifier came back with: 4, the real answer is: 4\n",
            "the classifier came back with: 9, the real answer is: 9\n",
            "the classifier came back with: 8, the real answer is: 8\n",
            "the classifier came back with: 7, the real answer is: 7\n",
            "the classifier came back with: 7, the real answer is: 7\n",
            "the classifier came back with: 5, the real answer is: 5\n",
            "the classifier came back with: 6, the real answer is: 6\n",
            "the classifier came back with: 4, the real answer is: 4\n",
            "the classifier came back with: 7, the real answer is: 7\n",
            "the classifier came back with: 2, the real answer is: 2\n",
            "the classifier came back with: 5, the real answer is: 5\n",
            "the classifier came back with: 1, the real answer is: 1\n",
            "the classifier came back with: 5, the real answer is: 5\n",
            "the classifier came back with: 9, the real answer is: 9\n",
            "the classifier came back with: 2, the real answer is: 2\n",
            "the classifier came back with: 8, the real answer is: 8\n",
            "the classifier came back with: 4, the real answer is: 4\n",
            "the classifier came back with: 4, the real answer is: 4\n",
            "the classifier came back with: 4, the real answer is: 4\n",
            "the classifier came back with: 7, the real answer is: 7\n",
            "the classifier came back with: 5, the real answer is: 5\n",
            "the classifier came back with: 9, the real answer is: 9\n",
            "the classifier came back with: 6, the real answer is: 6\n",
            "the classifier came back with: 3, the real answer is: 3\n",
            "the classifier came back with: 9, the real answer is: 9\n",
            "the classifier came back with: 4, the real answer is: 4\n",
            "the classifier came back with: 6, the real answer is: 6\n",
            "the classifier came back with: 6, the real answer is: 6\n",
            "the classifier came back with: 6, the real answer is: 6\n",
            "the classifier came back with: 5, the real answer is: 5\n",
            "the classifier came back with: 6, the real answer is: 6\n",
            "the classifier came back with: 7, the real answer is: 7\n",
            "the classifier came back with: 4, the real answer is: 4\n",
            "the classifier came back with: 5, the real answer is: 5\n",
            "the classifier came back with: 9, the real answer is: 9\n",
            "the classifier came back with: 4, the real answer is: 4\n",
            "the classifier came back with: 4, the real answer is: 4\n",
            "the classifier came back with: 8, the real answer is: 8\n",
            "the classifier came back with: 4, the real answer is: 4\n",
            "the classifier came back with: 5, the real answer is: 5\n",
            "the classifier came back with: 9, the real answer is: 9\n",
            "the classifier came back with: 9, the real answer is: 9\n",
            "the classifier came back with: 2, the real answer is: 2\n",
            "the classifier came back with: 9, the real answer is: 9\n",
            "the classifier came back with: 4, the real answer is: 4\n",
            "the classifier came back with: 8, the real answer is: 8\n",
            "the classifier came back with: 6, the real answer is: 6\n",
            "the classifier came back with: 4, the real answer is: 4\n",
            "the classifier came back with: 7, the real answer is: 7\n",
            "the classifier came back with: 6, the real answer is: 6\n",
            "the classifier came back with: 9, the real answer is: 9\n",
            "the classifier came back with: 3, the real answer is: 3\n",
            "the classifier came back with: 4, the real answer is: 4\n",
            "the classifier came back with: 5, the real answer is: 5\n",
            "the classifier came back with: 3, the real answer is: 3\n",
            "the classifier came back with: 3, the real answer is: 3\n",
            "the classifier came back with: 2, the real answer is: 2\n",
            "the classifier came back with: 1, the real answer is: 1\n",
            "the classifier came back with: 1, the real answer is: 1\n",
            "the classifier came back with: 8, the real answer is: 8\n",
            "the classifier came back with: 9, the real answer is: 9\n",
            "the classifier came back with: 1, the real answer is: 1\n",
            "the classifier came back with: 6, the real answer is: 6\n",
            "the classifier came back with: 8, the real answer is: 8\n",
            "the classifier came back with: 6, the real answer is: 6\n",
            "the classifier came back with: 3, the real answer is: 3\n",
            "the classifier came back with: 5, the real answer is: 5\n",
            "the classifier came back with: 4, the real answer is: 4\n",
            "the classifier came back with: 7, the real answer is: 7\n",
            "the classifier came back with: 5, the real answer is: 5\n",
            "the classifier came back with: 5, the real answer is: 5\n",
            "the classifier came back with: 6, the real answer is: 6\n",
            "the classifier came back with: 7, the real answer is: 7\n",
            "the classifier came back with: 5, the real answer is: 5\n",
            "the classifier came back with: 2, the real answer is: 2\n",
            "the classifier came back with: 8, the real answer is: 8\n",
            "the classifier came back with: 4, the real answer is: 4\n",
            "the classifier came back with: 6, the real answer is: 6\n",
            "the classifier came back with: 3, the real answer is: 3\n",
            "the classifier came back with: 9, the real answer is: 9\n",
            "the classifier came back with: 9, the real answer is: 9\n",
            "the classifier came back with: 9, the real answer is: 9\n",
            "the classifier came back with: 8, the real answer is: 8\n",
            "the classifier came back with: 6, the real answer is: 6\n",
            "the classifier came back with: 5, the real answer is: 5\n",
            "the classifier came back with: 2, the real answer is: 2\n",
            "the classifier came back with: 4, the real answer is: 4\n",
            "the classifier came back with: 2, the real answer is: 2\n",
            "the classifier came back with: 6, the real answer is: 6\n",
            "the classifier came back with: 6, the real answer is: 6\n",
            "the classifier came back with: 5, the real answer is: 5\n",
            "the classifier came back with: 6, the real answer is: 6\n",
            "the classifier came back with: 5, the real answer is: 5\n",
            "the classifier came back with: 9, the real answer is: 9\n",
            "the classifier came back with: 2, the real answer is: 2\n",
            "the classifier came back with: 9, the real answer is: 9\n",
            "the classifier came back with: 9, the real answer is: 9\n",
            "the classifier came back with: 8, the real answer is: 8\n",
            "the classifier came back with: 3, the real answer is: 3\n",
            "the classifier came back with: 9, the real answer is: 9\n",
            "the classifier came back with: 3, the real answer is: 3\n",
            "the classifier came back with: 5, the real answer is: 5\n",
            "the classifier came back with: 7, the real answer is: 7\n",
            "the classifier came back with: 8, the real answer is: 8\n",
            "the classifier came back with: 2, the real answer is: 2\n",
            "the classifier came back with: 9, the real answer is: 9\n",
            "the classifier came back with: 6, the real answer is: 6\n",
            "the classifier came back with: 9, the real answer is: 9\n",
            "the classifier came back with: 5, the real answer is: 5\n",
            "the classifier came back with: 9, the real answer is: 9\n",
            "the classifier came back with: 2, the real answer is: 2\n",
            "the classifier came back with: 8, the real answer is: 8\n",
            "the classifier came back with: 7, the real answer is: 7\n",
            "the classifier came back with: 4, the real answer is: 4\n",
            "the classifier came back with: 7, the real answer is: 7\n",
            "the classifier came back with: 5, the real answer is: 5\n",
            "the classifier came back with: 7, the real answer is: 7\n",
            "the classifier came back with: 3, the real answer is: 3\n",
            "the classifier came back with: 1, the real answer is: 1\n",
            "the classifier came back with: 8, the real answer is: 8\n",
            "the classifier came back with: 7, the real answer is: 7\n",
            "the classifier came back with: 7, the real answer is: 7\n",
            "the classifier came back with: 5, the real answer is: 5\n",
            "the classifier came back with: 2, the real answer is: 2\n",
            "the classifier came back with: 3, the real answer is: 3\n",
            "the classifier came back with: 6, the real answer is: 6\n",
            "the classifier came back with: 6, the real answer is: 6\n",
            "the classifier came back with: 6, the real answer is: 6\n",
            "the classifier came back with: 6, the real answer is: 6\n",
            "the classifier came back with: 9, the real answer is: 9\n",
            "the classifier came back with: 9, the real answer is: 9\n",
            "the classifier came back with: 7, the real answer is: 7\n",
            "the classifier came back with: 5, the real answer is: 5\n",
            "the classifier came back with: 9, the real answer is: 9\n",
            "the classifier came back with: 3, the real answer is: 3\n",
            "the classifier came back with: 2, the real answer is: 2\n",
            "the classifier came back with: 5, the real answer is: 5\n",
            "the classifier came back with: 5, the real answer is: 5\n",
            "the classifier came back with: 2, the real answer is: 2\n",
            "the classifier came back with: 6, the real answer is: 6\n",
            "the classifier came back with: 9, the real answer is: 9\n",
            "the classifier came back with: 4, the real answer is: 4\n",
            "the classifier came back with: 7, the real answer is: 7\n",
            "the classifier came back with: 5, the real answer is: 5\n",
            "the classifier came back with: 1, the real answer is: 1\n",
            "the classifier came back with: 7, the real answer is: 7\n",
            "the classifier came back with: 9, the real answer is: 9\n",
            "the classifier came back with: 9, the real answer is: 9\n",
            "the classifier came back with: 9, the real answer is: 9\n",
            "the classifier came back with: 5, the real answer is: 5\n",
            "the classifier came back with: 8, the real answer is: 8\n",
            "the classifier came back with: 3, the real answer is: 3\n",
            "the classifier came back with: 4, the real answer is: 4\n",
            "the classifier came back with: 9, the real answer is: 9\n",
            "the classifier came back with: 1, the real answer is: 1\n",
            "the classifier came back with: 4, the real answer is: 4\n",
            "the classifier came back with: 2, the real answer is: 2\n",
            "the classifier came back with: 9, the real answer is: 9\n",
            "the classifier came back with: 3, the real answer is: 3\n",
            "the classifier came back with: 3, the real answer is: 3\n",
            "the classifier came back with: 5, the real answer is: 5\n",
            "the classifier came back with: 7, the real answer is: 7\n",
            "the classifier came back with: 9, the real answer is: 9\n",
            "the classifier came back with: 3, the real answer is: 3\n",
            "the classifier came back with: 2, the real answer is: 2\n",
            "the classifier came back with: 4, the real answer is: 4\n",
            "the classifier came back with: 4, the real answer is: 4\n",
            "the classifier came back with: 8, the real answer is: 8\n",
            "the classifier came back with: 8, the real answer is: 8\n",
            "the classifier came back with: 8, the real answer is: 8\n",
            "the classifier came back with: 6, the real answer is: 6\n",
            "the classifier came back with: 9, the real answer is: 9\n",
            "the classifier came back with: 7, the real answer is: 7\n",
            "the classifier came back with: 2, the real answer is: 2\n",
            "the classifier came back with: 6, the real answer is: 6\n",
            "the classifier came back with: 7, the real answer is: 7\n",
            "the classifier came back with: 6, the real answer is: 6\n",
            "the classifier came back with: 4, the real answer is: 4\n",
            "the classifier came back with: 2, the real answer is: 2\n",
            "the classifier came back with: 6, the real answer is: 6\n",
            "the classifier came back with: 5, the real answer is: 5\n",
            "the classifier came back with: 2, the real answer is: 2\n",
            "the classifier came back with: 5, the real answer is: 5\n",
            "the classifier came back with: 9, the real answer is: 9\n",
            "the classifier came back with: 2, the real answer is: 2\n",
            "the classifier came back with: 1, the real answer is: 1\n",
            "the classifier came back with: 3, the real answer is: 3\n",
            "the classifier came back with: 9, the real answer is: 9\n",
            "the classifier came back with: 8, the real answer is: 8\n",
            "the classifier came back with: 6, the real answer is: 6\n",
            "the classifier came back with: 3, the real answer is: 3\n",
            "the classifier came back with: 5, the real answer is: 5\n",
            "the classifier came back with: 4, the real answer is: 4\n",
            "the classifier came back with: 9, the real answer is: 9\n",
            "the classifier came back with: 2, the real answer is: 2\n",
            "the classifier came back with: 7, the real answer is: 7\n",
            "the classifier came back with: 8, the real answer is: 8\n",
            "the classifier came back with: 7, the real answer is: 7\n",
            "the classifier came back with: 4, the real answer is: 4\n",
            "the classifier came back with: 9, the real answer is: 9\n",
            "the classifier came back with: 1, the real answer is: 1\n",
            "the classifier came back with: 7, the real answer is: 7\n",
            "the classifier came back with: 6, the real answer is: 6\n",
            "the classifier came back with: 6, the real answer is: 6\n",
            "the classifier came back with: 2, the real answer is: 2\n",
            "the classifier came back with: 2, the real answer is: 2\n",
            "the classifier came back with: 4, the real answer is: 4\n",
            "the classifier came back with: 4, the real answer is: 4\n",
            "the classifier came back with: 9, the real answer is: 9\n",
            "the classifier came back with: 6, the real answer is: 6\n",
            "the classifier came back with: 4, the real answer is: 4\n",
            "the classifier came back with: 2, the real answer is: 2\n",
            "the classifier came back with: 7, the real answer is: 7\n",
            "the classifier came back with: 5, the real answer is: 5\n",
            "the classifier came back with: 6, the real answer is: 6\n",
            "the classifier came back with: 3, the real answer is: 3\n",
            "the classifier came back with: 3, the real answer is: 3\n",
            "the classifier came back with: 2, the real answer is: 2\n",
            "the classifier came back with: 8, the real answer is: 8\n",
            "the classifier came back with: 9, the real answer is: 9\n",
            "the classifier came back with: 4, the real answer is: 4\n",
            "the classifier came back with: 4, the real answer is: 4\n",
            "the classifier came back with: 8, the real answer is: 8\n",
            "the classifier came back with: 3, the real answer is: 3\n",
            "the classifier came back with: 9, the real answer is: 9\n",
            "the classifier came back with: 8, the real answer is: 8\n",
            "the classifier came back with: 1, the real answer is: 1\n",
            "the classifier came back with: 7, the real answer is: 7\n",
            "the classifier came back with: 9, the real answer is: 9\n",
            "the classifier came back with: 1, the real answer is: 1\n",
            "the classifier came back with: 7, the real answer is: 7\n",
            "the classifier came back with: 6, the real answer is: 6\n",
            "the classifier came back with: 1, the real answer is: 1\n",
            "the classifier came back with: 4, the real answer is: 4\n",
            "the classifier came back with: 7, the real answer is: 7\n",
            "the classifier came back with: 4, the real answer is: 4\n",
            "the classifier came back with: 1, the real answer is: 1\n",
            "the classifier came back with: 3, the real answer is: 3\n",
            "the classifier came back with: 5, the real answer is: 5\n",
            "the classifier came back with: 3, the real answer is: 3\n",
            "the classifier came back with: 3, the real answer is: 3\n",
            "the classifier came back with: 3, the real answer is: 3\n",
            "the classifier came back with: 4, the real answer is: 4\n",
            "the classifier came back with: 4, the real answer is: 4\n",
            "the classifier came back with: 5, the real answer is: 5\n",
            "the classifier came back with: 5, the real answer is: 5\n",
            "the classifier came back with: 4, the real answer is: 4\n",
            "the classifier came back with: 5, the real answer is: 5\n",
            "the classifier came back with: 6, the real answer is: 6\n",
            "the classifier came back with: 2, the real answer is: 2\n",
            "the classifier came back with: 1, the real answer is: 1\n",
            "the classifier came back with: 7, the real answer is: 7\n",
            "the classifier came back with: 4, the real answer is: 4\n",
            "the classifier came back with: 2, the real answer is: 2\n",
            "the classifier came back with: 9, the real answer is: 9\n",
            "the classifier came back with: 6, the real answer is: 6\n",
            "the classifier came back with: 5, the real answer is: 5\n",
            "the classifier came back with: 6, the real answer is: 6\n",
            "the classifier came back with: 4, the real answer is: 4\n",
            "the classifier came back with: 9, the real answer is: 9\n",
            "the classifier came back with: 7, the real answer is: 7\n",
            "the classifier came back with: 7, the real answer is: 7\n",
            "the classifier came back with: 5, the real answer is: 5\n",
            "the classifier came back with: 4, the real answer is: 4\n",
            "the classifier came back with: 8, the real answer is: 8\n",
            "the classifier came back with: 8, the real answer is: 8\n",
            "the classifier came back with: 7, the real answer is: 7\n",
            "the classifier came back with: 5, the real answer is: 5\n",
            "the classifier came back with: 2, the real answer is: 2\n",
            "the classifier came back with: 4, the real answer is: 4\n",
            "the classifier came back with: 6, the real answer is: 6\n",
            "the classifier came back with: 5, the real answer is: 5\n",
            "the classifier came back with: 4, the real answer is: 4\n",
            "the classifier came back with: 5, the real answer is: 5\n",
            "the classifier came back with: 7, the real answer is: 7\n",
            "the classifier came back with: 4, the real answer is: 4\n",
            "the classifier came back with: 6, the real answer is: 6\n",
            "the classifier came back with: 5, the real answer is: 5\n",
            "the classifier came back with: 6, the real answer is: 6\n",
            "the classifier came back with: 6, the real answer is: 6\n",
            "the classifier came back with: 3, the real answer is: 3\n",
            "the classifier came back with: 5, the real answer is: 5\n",
            "the classifier came back with: 8, the real answer is: 8\n",
            "the classifier came back with: 4, the real answer is: 4\n",
            "the classifier came back with: 4, the real answer is: 4\n",
            "the classifier came back with: 7, the real answer is: 7\n",
            "the classifier came back with: 9, the real answer is: 9\n",
            "the classifier came back with: 7, the real answer is: 7\n",
            "the classifier came back with: 6, the real answer is: 6\n",
            "the classifier came back with: 8, the real answer is: 8\n",
            "the classifier came back with: 9, the real answer is: 9\n",
            "the classifier came back with: 4, the real answer is: 4\n",
            "the classifier came back with: 4, the real answer is: 4\n",
            "the classifier came back with: 7, the real answer is: 7\n",
            "the classifier came back with: 6, the real answer is: 6\n",
            "the classifier came back with: 9, the real answer is: 9\n",
            "the classifier came back with: 9, the real answer is: 9\n",
            "the classifier came back with: 4, the real answer is: 4\n",
            "the classifier came back with: 6, the real answer is: 6\n",
            "the classifier came back with: 3, the real answer is: 3\n",
            "the classifier came back with: 2, the real answer is: 2\n",
            "the classifier came back with: 8, the real answer is: 8\n",
            "the classifier came back with: 6, the real answer is: 6\n",
            "the classifier came back with: 8, the real answer is: 8\n",
            "the classifier came back with: 2, the real answer is: 2\n",
            "the classifier came back with: 7, the real answer is: 7\n",
            "the classifier came back with: 7, the real answer is: 7\n",
            "the classifier came back with: 3, the real answer is: 3\n",
            "the classifier came back with: 1, the real answer is: 1\n",
            "the classifier came back with: 7, the real answer is: 7\n",
            "the classifier came back with: 6, the real answer is: 6\n",
            "the classifier came back with: 9, the real answer is: 9\n",
            "the classifier came back with: 6, the real answer is: 6\n",
            "the classifier came back with: 9, the real answer is: 9\n",
            "the classifier came back with: 3, the real answer is: 3\n",
            "the classifier came back with: 4, the real answer is: 4\n",
            "the classifier came back with: 5, the real answer is: 5\n",
            "the classifier came back with: 8, the real answer is: 8\n",
            "the classifier came back with: 7, the real answer is: 7\n",
            "the classifier came back with: 2, the real answer is: 2\n",
            "the classifier came back with: 4, the real answer is: 4\n",
            "the classifier came back with: 4, the real answer is: 4\n",
            "the classifier came back with: 3, the real answer is: 3\n",
            "the classifier came back with: 4, the real answer is: 4\n",
            "the classifier came back with: 1, the real answer is: 1\n",
            "the classifier came back with: 7, the real answer is: 7\n",
            "the classifier came back with: 4, the real answer is: 4\n",
            "the classifier came back with: 5, the real answer is: 5\n",
            "the classifier came back with: 3, the real answer is: 3\n",
            "the classifier came back with: 6, the real answer is: 6\n",
            "the classifier came back with: 6, the real answer is: 6\n",
            "the classifier came back with: 2, the real answer is: 2\n",
            "the classifier came back with: 9, the real answer is: 9\n",
            "the classifier came back with: 4, the real answer is: 4\n",
            "the classifier came back with: 9, the real answer is: 9\n",
            "the classifier came back with: 9, the real answer is: 9\n",
            "the classifier came back with: 7, the real answer is: 7\n",
            "the classifier came back with: 4, the real answer is: 4\n",
            "the classifier came back with: 9, the real answer is: 9\n",
            "the classifier came back with: 2, the real answer is: 2\n",
            "the classifier came back with: 7, the real answer is: 7\n",
            "the classifier came back with: 6, the real answer is: 6\n",
            "the classifier came back with: 4, the real answer is: 4\n",
            "the classifier came back with: 4, the real answer is: 4\n",
            "the classifier came back with: 5, the real answer is: 5\n",
            "the classifier came back with: 3, the real answer is: 3\n",
            "the classifier came back with: 2, the real answer is: 2\n",
            "the classifier came back with: 5, the real answer is: 5\n",
            "the classifier came back with: 9, the real answer is: 9\n",
            "the classifier came back with: 9, the real answer is: 9\n",
            "the classifier came back with: 3, the real answer is: 3\n",
            "the classifier came back with: 8, the real answer is: 8\n",
            "the classifier came back with: 5, the real answer is: 5\n",
            "the classifier came back with: 8, the real answer is: 8\n",
            "the classifier came back with: 2, the real answer is: 2\n",
            "the classifier came back with: 9, the real answer is: 9\n",
            "the classifier came back with: 3, the real answer is: 3\n",
            "the classifier came back with: 9, the real answer is: 9\n",
            "the classifier came back with: 5, the real answer is: 5\n",
            "the classifier came back with: 9, the real answer is: 9\n",
            "the classifier came back with: 3, the real answer is: 3\n",
            "the classifier came back with: 9, the real answer is: 9\n",
            "the classifier came back with: 2, the real answer is: 2\n",
            "the classifier came back with: 9, the real answer is: 9\n",
            "the classifier came back with: 9, the real answer is: 9\n",
            "the classifier came back with: 2, the real answer is: 2\n",
            "the classifier came back with: 4, the real answer is: 4\n",
            "the classifier came back with: 5, the real answer is: 5\n",
            "the classifier came back with: 8, the real answer is: 8\n",
            "the classifier came back with: 3, the real answer is: 3\n",
            "the classifier came back with: 7, the real answer is: 7\n",
            "the classifier came back with: 9, the real answer is: 9\n",
            "the classifier came back with: 9, the real answer is: 9\n",
            "the classifier came back with: 5, the real answer is: 5\n",
            "the classifier came back with: 9, the real answer is: 9\n",
            "the classifier came back with: 3, the real answer is: 3\n",
            "the classifier came back with: 6, the real answer is: 6\n",
            "the classifier came back with: 3, the real answer is: 3\n",
            "the classifier came back with: 4, the real answer is: 4\n",
            "the classifier came back with: 9, the real answer is: 9\n",
            "the classifier came back with: 2, the real answer is: 2\n",
            "the classifier came back with: 8, the real answer is: 8\n",
            "the classifier came back with: 8, the real answer is: 8\n",
            "the classifier came back with: 2, the real answer is: 2\n",
            "the classifier came back with: 5, the real answer is: 5\n",
            "the classifier came back with: 4, the real answer is: 4\n",
            "the classifier came back with: 5, the real answer is: 5\n",
            "the classifier came back with: 7, the real answer is: 7\n",
            "the classifier came back with: 5, the real answer is: 5\n",
            "the classifier came back with: 8, the real answer is: 8\n",
            "the classifier came back with: 6, the real answer is: 6\n",
            "the classifier came back with: 4, the real answer is: 4\n",
            "the classifier came back with: 7, the real answer is: 7\n",
            "the classifier came back with: 7, the real answer is: 7\n",
            "the classifier came back with: 6, the real answer is: 6\n",
            "the classifier came back with: 1, the real answer is: 1\n",
            "the classifier came back with: 4, the real answer is: 4\n",
            "the classifier came back with: 7, the real answer is: 7\n",
            "the classifier came back with: 1, the real answer is: 1\n",
            "the classifier came back with: 8, the real answer is: 8\n",
            "the classifier came back with: 2, the real answer is: 2\n",
            "the classifier came back with: 6, the real answer is: 6\n",
            "the classifier came back with: 3, the real answer is: 3\n",
            "the classifier came back with: 9, the real answer is: 9\n",
            "the classifier came back with: 8, the real answer is: 8\n",
            "the classifier came back with: 5, the real answer is: 5\n",
            "the classifier came back with: 8, the real answer is: 8\n",
            "the classifier came back with: 4, the real answer is: 4\n",
            "the classifier came back with: 8, the real answer is: 8\n",
            "the classifier came back with: 2, the real answer is: 2\n",
            "the classifier came back with: 4, the real answer is: 4\n",
            "the classifier came back with: 1, the real answer is: 1\n",
            "the classifier came back with: 7, the real answer is: 7\n",
            "the classifier came back with: 1, the real answer is: 1\n",
            "the classifier came back with: 9, the real answer is: 9\n",
            "the classifier came back with: 6, the real answer is: 6\n",
            "the classifier came back with: 8, the real answer is: 8\n",
            "the classifier came back with: 9, the real answer is: 9\n",
            "the classifier came back with: 3, the real answer is: 3\n",
            "the classifier came back with: 8, the real answer is: 8\n",
            "the classifier came back with: 3, the real answer is: 3\n",
            "the classifier came back with: 4, the real answer is: 4\n",
            "the classifier came back with: 8, the real answer is: 8\n",
            "the classifier came back with: 4, the real answer is: 4\n",
            "the classifier came back with: 6, the real answer is: 6\n",
            "the classifier came back with: 5, the real answer is: 5\n",
            "the classifier came back with: 6, the real answer is: 6\n",
            "the classifier came back with: 9, the real answer is: 9\n",
            "the classifier came back with: 7, the real answer is: 7\n",
            "the classifier came back with: 9, the real answer is: 9\n",
            "the classifier came back with: 8, the real answer is: 8\n",
            "the classifier came back with: 2, the real answer is: 2\n",
            "the classifier came back with: 9, the real answer is: 9\n",
            "the classifier came back with: 2, the real answer is: 2\n",
            "the classifier came back with: 9, the real answer is: 9\n",
            "the classifier came back with: 9, the real answer is: 9\n",
            "the classifier came back with: 4, the real answer is: 4\n",
            "the classifier came back with: 4, the real answer is: 4\n",
            "the classifier came back with: 9, the real answer is: 9\n",
            "the classifier came back with: 4, the real answer is: 4\n",
            "the classifier came back with: 3, the real answer is: 3\n",
            "the classifier came back with: 8, the real answer is: 8\n",
            "the classifier came back with: 6, the real answer is: 6\n",
            "the classifier came back with: 3, the real answer is: 3\n",
            "the classifier came back with: 9, the real answer is: 9\n",
            "the classifier came back with: 8, the real answer is: 8\n",
            "the classifier came back with: 5, the real answer is: 5\n",
            "the classifier came back with: 2, the real answer is: 2\n",
            "the classifier came back with: 1, the real answer is: 1\n",
            "the classifier came back with: 7, the real answer is: 7\n",
            "the classifier came back with: 7, the real answer is: 7\n",
            "the classifier came back with: 9, the real answer is: 9\n",
            "the classifier came back with: 6, the real answer is: 6\n",
            "the classifier came back with: 8, the real answer is: 8\n",
            "the classifier came back with: 7, the real answer is: 7\n",
            "the classifier came back with: 3, the real answer is: 3\n",
            "the classifier came back with: 6, the real answer is: 6\n",
            "the classifier came back with: 5, the real answer is: 5\n",
            "the classifier came back with: 5, the real answer is: 5\n",
            "the classifier came back with: 6, the real answer is: 6\n",
            "the classifier came back with: 4, the real answer is: 4\n",
            "the classifier came back with: 2, the real answer is: 2\n",
            "the classifier came back with: 2, the real answer is: 2\n",
            "the classifier came back with: 3, the real answer is: 3\n",
            "the classifier came back with: 9, the real answer is: 9\n",
            "the classifier came back with: 5, the real answer is: 5\n",
            "the classifier came back with: 8, the real answer is: 8\n",
            "the classifier came back with: 6, the real answer is: 6\n",
            "the classifier came back with: 8, the real answer is: 8\n",
            "the classifier came back with: 2, the real answer is: 2\n",
            "the classifier came back with: 2, the real answer is: 2\n",
            "the classifier came back with: 4, the real answer is: 4\n",
            "the classifier came back with: 7, the real answer is: 7\n",
            "the classifier came back with: 2, the real answer is: 2\n",
            "the classifier came back with: 5, the real answer is: 5\n",
            "the classifier came back with: 8, the real answer is: 8\n",
            "the classifier came back with: 9, the real answer is: 9\n",
            "the classifier came back with: 6, the real answer is: 6\n",
            "the classifier came back with: 4, the real answer is: 4\n",
            "the classifier came back with: 2, the real answer is: 2\n",
            "the classifier came back with: 3, the real answer is: 3\n",
            "the classifier came back with: 8, the real answer is: 8\n",
            "the classifier came back with: 6, the real answer is: 6\n",
            "the classifier came back with: 2, the real answer is: 2\n",
            "the classifier came back with: 6, the real answer is: 6\n",
            "the classifier came back with: 6, the real answer is: 6\n",
            "the classifier came back with: 4, the real answer is: 4\n",
            "the classifier came back with: 3, the real answer is: 3\n",
            "the classifier came back with: 8, the real answer is: 8\n",
            "the classifier came back with: 4, the real answer is: 4\n",
            "the classifier came back with: 3, the real answer is: 3\n",
            "the classifier came back with: 9, the real answer is: 9\n",
            "the classifier came back with: 5, the real answer is: 5\n",
            "the classifier came back with: 5, the real answer is: 5\n",
            "the classifier came back with: 2, the real answer is: 2\n",
            "the classifier came back with: 1, the real answer is: 1\n",
            "the classifier came back with: 7, the real answer is: 7\n",
            "the classifier came back with: 6, the real answer is: 6\n",
            "the classifier came back with: 3, the real answer is: 3\n",
            "the classifier came back with: 5, the real answer is: 5\n",
            "the classifier came back with: 9, the real answer is: 9\n",
            "the classifier came back with: 5, the real answer is: 5\n",
            "the classifier came back with: 9, the real answer is: 9\n",
            "the classifier came back with: 5, the real answer is: 5\n",
            "the classifier came back with: 5, the real answer is: 5\n",
            "the classifier came back with: 3, the real answer is: 3\n",
            "the classifier came back with: 4, the real answer is: 4\n",
            "the classifier came back with: 3, the real answer is: 3\n",
            "the classifier came back with: 8, the real answer is: 8\n",
            "the classifier came back with: 9, the real answer is: 9\n",
            "the classifier came back with: 1, the real answer is: 1\n",
            "the classifier came back with: 4, the real answer is: 4\n",
            "the classifier came back with: 9, the real answer is: 9\n",
            "the classifier came back with: 5, the real answer is: 5\n",
            "the classifier came back with: 9, the real answer is: 9\n",
            "the classifier came back with: 3, the real answer is: 3\n",
            "the classifier came back with: 8, the real answer is: 8\n",
            "the classifier came back with: 6, the real answer is: 6\n",
            "the classifier came back with: 8, the real answer is: 8\n",
            "the classifier came back with: 5, the real answer is: 5\n",
            "the classifier came back with: 7, the real answer is: 7\n",
            "the classifier came back with: 9, the real answer is: 9\n",
            "the classifier came back with: 5, the real answer is: 5\n",
            "the classifier came back with: 9, the real answer is: 9\n",
            "the classifier came back with: 9, the real answer is: 9\n",
            "the classifier came back with: 9, the real answer is: 9\n",
            "the classifier came back with: 6, the real answer is: 6\n",
            "the classifier came back with: 8, the real answer is: 8\n",
            "the classifier came back with: 9, the real answer is: 9\n",
            "the classifier came back with: 2, the real answer is: 2\n",
            "the classifier came back with: 1, the real answer is: 1\n",
            "the classifier came back with: 7, the real answer is: 7\n",
            "the classifier came back with: 4, the real answer is: 4\n",
            "the classifier came back with: 9, the real answer is: 9\n",
            "the classifier came back with: 7, the real answer is: 7\n",
            "the classifier came back with: 3, the real answer is: 3\n",
            "the classifier came back with: 6, the real answer is: 6\n",
            "the classifier came back with: 9, the real answer is: 9\n",
            "the classifier came back with: 3, the real answer is: 3\n",
            "the classifier came back with: 3, the real answer is: 3\n",
            "the classifier came back with: 2, the real answer is: 2\n",
            "the classifier came back with: 1, the real answer is: 1\n",
            "the classifier came back with: 3, the real answer is: 3\n",
            "the classifier came back with: 4, the real answer is: 4\n",
            "the classifier came back with: 7, the real answer is: 7\n",
            "the classifier came back with: 4, the real answer is: 4\n",
            "the classifier came back with: 9, the real answer is: 9\n",
            "the classifier came back with: 9, the real answer is: 9\n",
            "the classifier came back with: 5, the real answer is: 5\n",
            "the classifier came back with: 1, the real answer is: 1\n",
            "the classifier came back with: 8, the real answer is: 8\n",
            "the classifier came back with: 7, the real answer is: 7\n",
            "the classifier came back with: 6, the real answer is: 6\n",
            "the classifier came back with: 6, the real answer is: 6\n",
            "the classifier came back with: 7, the real answer is: 7\n",
            "the classifier came back with: 5, the real answer is: 5\n",
            "the classifier came back with: 8, the real answer is: 8\n",
            "the classifier came back with: 6, the real answer is: 6\n",
            "the classifier came back with: 5, the real answer is: 5\n",
            "the classifier came back with: 9, the real answer is: 9\n",
            "the classifier came back with: 6, the real answer is: 6\n",
            "the classifier came back with: 6, the real answer is: 6\n",
            "the classifier came back with: 3, the real answer is: 3\n",
            "the classifier came back with: 4, the real answer is: 4\n",
            "the classifier came back with: 8, the real answer is: 8\n",
            "the classifier came back with: 6, the real answer is: 6\n",
            "the classifier came back with: 6, the real answer is: 6\n",
            "the classifier came back with: 9, the real answer is: 9\n",
            "the classifier came back with: 6, the real answer is: 6\n",
            "the classifier came back with: 6, the real answer is: 6\n",
            "the classifier came back with: 9, the real answer is: 9\n",
            "the classifier came back with: 5, the real answer is: 5\n",
            "the classifier came back with: 9, the real answer is: 9\n",
            "the classifier came back with: 9, the real answer is: 9\n",
            "the classifier came back with: 4, the real answer is: 4\n",
            "the classifier came back with: 1, the real answer is: 1\n",
            "the classifier came back with: 9, the real answer is: 9\n",
            "the classifier came back with: 6, the real answer is: 6\n",
            "the classifier came back with: 5, the real answer is: 5\n",
            "the classifier came back with: 2, the real answer is: 2\n",
            "the classifier came back with: 7, the real answer is: 7\n",
            "the classifier came back with: 9, the real answer is: 9\n",
            "the classifier came back with: 8, the real answer is: 8\n",
            "the classifier came back with: 4, the real answer is: 4\n",
            "the classifier came back with: 6, the real answer is: 6\n",
            "the classifier came back with: 6, the real answer is: 6\n",
            "the classifier came back with: 2, the real answer is: 2\n",
            "the classifier came back with: 5, the real answer is: 5\n",
            "the classifier came back with: 7, the real answer is: 7\n",
            "the classifier came back with: 1, the real answer is: 1\n",
            "the classifier came back with: 2, the real answer is: 2\n",
            "the classifier came back with: 2, the real answer is: 2\n",
            "the classifier came back with: 7, the real answer is: 7\n",
            "the classifier came back with: 6, the real answer is: 6\n",
            "the classifier came back with: 5, the real answer is: 5\n",
            "the classifier came back with: 7, the real answer is: 7\n",
            "the classifier came back with: 6, the real answer is: 6\n",
            "the classifier came back with: 4, the real answer is: 4\n",
            "the classifier came back with: 9, the real answer is: 9\n",
            "the classifier came back with: 5, the real answer is: 5\n",
            "the classifier came back with: 9, the real answer is: 9\n",
            "the classifier came back with: 3, the real answer is: 3\n",
            "the classifier came back with: 8, the real answer is: 8\n",
            "the classifier came back with: 7, the real answer is: 7\n",
            "the classifier came back with: 9, the real answer is: 9\n",
            "the classifier came back with: 8, the real answer is: 8\n",
            "the classifier came back with: 4, the real answer is: 4\n",
            "the classifier came back with: 9, the real answer is: 9\n",
            "the classifier came back with: 8, the real answer is: 8\n",
            "the classifier came back with: 4, the real answer is: 4\n",
            "the classifier came back with: 5, the real answer is: 5\n",
            "the classifier came back with: 1, the real answer is: 1\n",
            "the classifier came back with: 3, the real answer is: 3\n",
            "the classifier came back with: 8, the real answer is: 8\n",
            "the classifier came back with: 7, the real answer is: 7\n",
            "the classifier came back with: 5, the real answer is: 5\n",
            "the classifier came back with: 2, the real answer is: 2\n",
            "the classifier came back with: 9, the real answer is: 9\n",
            "the classifier came back with: 3, the real answer is: 3\n",
            "the classifier came back with: 2, the real answer is: 2\n",
            "the classifier came back with: 9, the real answer is: 9\n",
            "the classifier came back with: 2, the real answer is: 2\n",
            "the classifier came back with: 2, the real answer is: 2\n",
            "the classifier came back with: 3, the real answer is: 3\n",
            "the classifier came back with: 4, the real answer is: 4\n",
            "the classifier came back with: 8, the real answer is: 8\n",
            "the classifier came back with: 5, the real answer is: 5\n",
            "the classifier came back with: 7, the real answer is: 7\n",
            "the classifier came back with: 9, the real answer is: 9\n",
            "the classifier came back with: 8, the real answer is: 8\n",
            "the classifier came back with: 2, the real answer is: 2\n",
            "the classifier came back with: 7, the real answer is: 7\n",
            "the classifier came back with: 6, the real answer is: 6\n",
            "the classifier came back with: 4, the real answer is: 4\n",
            "the classifier came back with: 8, the real answer is: 8\n",
            "the classifier came back with: 9, the real answer is: 9\n",
            "the classifier came back with: 3, the real answer is: 3\n",
            "the classifier came back with: 5, the real answer is: 5\n",
            "the classifier came back with: 3, the real answer is: 3\n",
            "the classifier came back with: 8, the real answer is: 8\n",
            "the classifier came back with: 9, the real answer is: 9\n",
            "the classifier came back with: 7, the real answer is: 7\n",
            "the classifier came back with: 8, the real answer is: 8\n",
            "the classifier came back with: 9, the real answer is: 9\n",
            "the classifier came back with: 6, the real answer is: 6\n",
            "the classifier came back with: 4, the real answer is: 4\n",
            "the classifier came back with: 1, the real answer is: 1\n",
            "\n",
            "the total number of errors is: 133.0\n",
            "\n",
            "the total error rate is: 0.14059196617336153\n"
          ],
          "name": "stdout"
        }
      ]
    },
    {
      "cell_type": "markdown",
      "metadata": {
        "id": "MvELCQX5WwUI"
      },
      "source": [
        "##Conclusion.\n",
        "\n",
        "\n",
        "This classifier is a good option to classify elements when there is a small amount of information already classified (labeled) due to its computational complexity, it the simplest classification method an easy to understand, it also is important to consider that the value assigned to K will affect directly to our error rate, for that reason it is important to evaluate multiple K values to find the more accurate."
      ]
    }
  ]
}